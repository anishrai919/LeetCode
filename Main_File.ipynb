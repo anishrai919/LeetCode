{
  "nbformat": 4,
  "nbformat_minor": 0,
  "metadata": {
    "kernelspec": {
      "name": "python3",
      "display_name": "Python 3"
    },
    "language_info": {
      "codemirror_mode": {
        "name": "ipython",
        "version": 3
      },
      "file_extension": ".py",
      "mimetype": "text/x-python",
      "name": "python",
      "nbconvert_exporter": "python",
      "pygments_lexer": "ipython3",
      "version": "3.6.9"
    },
    "colab": {
      "name": "Main_File.ipynb",
      "provenance": [],
      "collapsed_sections": [],
      "toc_visible": true,
      "machine_shape": "hm",
      "include_colab_link": true
    },
    "accelerator": "GPU"
  },
  "cells": [
    {
      "cell_type": "markdown",
      "metadata": {
        "id": "view-in-github",
        "colab_type": "text"
      },
      "source": [
        "<a href=\"https://colab.research.google.com/github/anishrai919/LeetCode/blob/master/Main_File.ipynb\" target=\"_parent\"><img src=\"https://colab.research.google.com/assets/colab-badge.svg\" alt=\"Open In Colab\"/></a>"
      ]
    },
    {
      "cell_type": "code",
      "metadata": {
        "id": "pgtg5oCs6c2s",
        "colab_type": "code",
        "outputId": "a6e60e67-3e74-4d57-d75b-5899129f7dfe",
        "colab": {
          "base_uri": "https://localhost:8080/",
          "height": 79
        }
      },
      "source": [
        "# Importing packages\n",
        "import numpy as np\n",
        "import pandas as pd\n",
        "import matplotlib.pyplot as plt\n",
        "import seaborn as sns\n",
        "import spacy   # For tokenization\n",
        "import nltk    # For stopwords\n",
        "from nltk.corpus import stopwords\n",
        "import re\n",
        "import string\n",
        "from collections import Counter\n",
        "import en_core_web_sm\n",
        "import os\n",
        "import time\n",
        "from tqdm import tqdm\n",
        "\n",
        "#tqdm.pandas(desc=\"progress-bar\")\n",
        "#from pandas.core.groupby.groupby import PanelGroupBy\n",
        "from nltk.tokenize import word_tokenize\n",
        "import math\n",
        "from sklearn.model_selection import train_test_split\n",
        "from sklearn import metrics\n",
        "\n",
        "from keras.preprocessing.text import Tokenizer\n",
        "from keras.preprocessing.sequence import pad_sequences\n",
        "from keras.layers import Dense, Input, CuDNNLSTM, Embedding, Dropout, Activation, CuDNNGRU, Conv1D\n",
        "from keras.layers import Bidirectional, GlobalMaxPool1D, GlobalMaxPooling1D, GlobalAveragePooling1D\n",
        "from keras.layers import Input, Embedding, Dense, Conv2D, MaxPool2D, concatenate\n",
        "from keras.layers import Reshape, Flatten, Concatenate, Dropout, SpatialDropout1D\n",
        "from keras.optimizers import Adam\n",
        "from keras.models import Model\n",
        "from keras import backend as K\n",
        "from keras.engine.topology import Layer\n",
        "from keras import initializers, regularizers, constraints, optimizers, layers\n",
        "\n",
        "\n",
        "# Fixing the size of each figure \n",
        "sns.set(rc={'figure.figsize':(11.7,8.27)})\n"
      ],
      "execution_count": 2,
      "outputs": [
        {
          "output_type": "stream",
          "text": [
            "Using TensorFlow backend.\n"
          ],
          "name": "stderr"
        },
        {
          "output_type": "display_data",
          "data": {
            "text/html": [
              "<p style=\"color: red;\">\n",
              "The default version of TensorFlow in Colab will soon switch to TensorFlow 2.x.<br>\n",
              "We recommend you <a href=\"https://www.tensorflow.org/guide/migrate\" target=\"_blank\">upgrade</a> now \n",
              "or ensure your notebook will continue to use TensorFlow 1.x via the <code>%tensorflow_version 1.x</code> magic:\n",
              "<a href=\"https://colab.research.google.com/notebooks/tensorflow_version.ipynb\" target=\"_blank\">more info</a>.</p>\n"
            ],
            "text/plain": [
              "<IPython.core.display.HTML object>"
            ]
          },
          "metadata": {
            "tags": []
          }
        }
      ]
    },
    {
      "cell_type": "code",
      "metadata": {
        "id": "g0mEy4Jh6c21",
        "colab_type": "code",
        "colab": {}
      },
      "source": [
        "# Loading the train and test datasets\n",
        "train = pd.read_csv('/content/drive/My Drive/Colab Notebooks/train.csv')\n",
        "test = pd.read_csv('/content/drive/My Drive/Colab Notebooks/test.csv')"
      ],
      "execution_count": 0,
      "outputs": []
    },
    {
      "cell_type": "code",
      "metadata": {
        "id": "D0ahD7gK83bW",
        "colab_type": "code",
        "outputId": "9770b08d-8066-4ca7-bacd-4f92049d4e55",
        "colab": {
          "base_uri": "https://localhost:8080/",
          "height": 34
        }
      },
      "source": [
        "from google.colab import drive\n",
        "drive.mount('/content/drive')"
      ],
      "execution_count": 4,
      "outputs": [
        {
          "output_type": "stream",
          "text": [
            "Drive already mounted at /content/drive; to attempt to forcibly remount, call drive.mount(\"/content/drive\", force_remount=True).\n"
          ],
          "name": "stdout"
        }
      ]
    },
    {
      "cell_type": "code",
      "metadata": {
        "id": "rFC4SBVi6c25",
        "colab_type": "code",
        "outputId": "6b3705bf-335f-4d23-dcbb-9bc5c9802a09",
        "colab": {
          "base_uri": "https://localhost:8080/",
          "height": 50
        }
      },
      "source": [
        "# Shape of training and testing data\n",
        "print(\"Shape of training data is: \", train.shape)\n",
        "print(\"Shape of test data is: \", test.shape)"
      ],
      "execution_count": 5,
      "outputs": [
        {
          "output_type": "stream",
          "text": [
            "Shape of training data is:  (1306122, 3)\n",
            "Shape of test data is:  (375806, 2)\n"
          ],
          "name": "stdout"
        }
      ]
    },
    {
      "cell_type": "code",
      "metadata": {
        "id": "a4NxNllY6c27",
        "colab_type": "code",
        "outputId": "3c893505-c904-479c-abb3-74a18c63783a",
        "colab": {
          "base_uri": "https://localhost:8080/",
          "height": 195
        }
      },
      "source": [
        "# Preview of top 5 rows of training data\n",
        "train.head()"
      ],
      "execution_count": 6,
      "outputs": [
        {
          "output_type": "execute_result",
          "data": {
            "text/html": [
              "<div>\n",
              "<style scoped>\n",
              "    .dataframe tbody tr th:only-of-type {\n",
              "        vertical-align: middle;\n",
              "    }\n",
              "\n",
              "    .dataframe tbody tr th {\n",
              "        vertical-align: top;\n",
              "    }\n",
              "\n",
              "    .dataframe thead th {\n",
              "        text-align: right;\n",
              "    }\n",
              "</style>\n",
              "<table border=\"1\" class=\"dataframe\">\n",
              "  <thead>\n",
              "    <tr style=\"text-align: right;\">\n",
              "      <th></th>\n",
              "      <th>qid</th>\n",
              "      <th>question_text</th>\n",
              "      <th>target</th>\n",
              "    </tr>\n",
              "  </thead>\n",
              "  <tbody>\n",
              "    <tr>\n",
              "      <th>0</th>\n",
              "      <td>00002165364db923c7e6</td>\n",
              "      <td>How did Quebec nationalists see their province...</td>\n",
              "      <td>0</td>\n",
              "    </tr>\n",
              "    <tr>\n",
              "      <th>1</th>\n",
              "      <td>000032939017120e6e44</td>\n",
              "      <td>Do you have an adopted dog, how would you enco...</td>\n",
              "      <td>0</td>\n",
              "    </tr>\n",
              "    <tr>\n",
              "      <th>2</th>\n",
              "      <td>0000412ca6e4628ce2cf</td>\n",
              "      <td>Why does velocity affect time? Does velocity a...</td>\n",
              "      <td>0</td>\n",
              "    </tr>\n",
              "    <tr>\n",
              "      <th>3</th>\n",
              "      <td>000042bf85aa498cd78e</td>\n",
              "      <td>How did Otto von Guericke used the Magdeburg h...</td>\n",
              "      <td>0</td>\n",
              "    </tr>\n",
              "    <tr>\n",
              "      <th>4</th>\n",
              "      <td>0000455dfa3e01eae3af</td>\n",
              "      <td>Can I convert montra helicon D to a mountain b...</td>\n",
              "      <td>0</td>\n",
              "    </tr>\n",
              "  </tbody>\n",
              "</table>\n",
              "</div>"
            ],
            "text/plain": [
              "                    qid  ... target\n",
              "0  00002165364db923c7e6  ...      0\n",
              "1  000032939017120e6e44  ...      0\n",
              "2  0000412ca6e4628ce2cf  ...      0\n",
              "3  000042bf85aa498cd78e  ...      0\n",
              "4  0000455dfa3e01eae3af  ...      0\n",
              "\n",
              "[5 rows x 3 columns]"
            ]
          },
          "metadata": {
            "tags": []
          },
          "execution_count": 6
        }
      ]
    },
    {
      "cell_type": "markdown",
      "metadata": {
        "id": "eLdDh_Rx6c29",
        "colab_type": "text"
      },
      "source": [
        "# Exploratory Data Analysis"
      ]
    },
    {
      "cell_type": "code",
      "metadata": {
        "id": "ct1Ak7fz6c2_",
        "colab_type": "code",
        "outputId": "623f18b4-9a6d-45b2-821e-f33ec80272d0",
        "colab": {
          "base_uri": "https://localhost:8080/",
          "height": 195
        }
      },
      "source": [
        "# Let's first create a copy of original training and test data\n",
        "train_copy = train.copy()\n",
        "test_copy = test.copy()\n",
        "\n",
        "# Number of words\n",
        "train_copy['num_words'] = train_copy['question_text'].apply(lambda x: len(str(x).split()))\n",
        "test_copy['num_words'] = test_copy['question_text'].apply(lambda x: len(str(x).split()))\n",
        "\n",
        "# Number of special characters\n",
        "train_copy['special_chars'] = train_copy['question_text'].str.findall(r'[^a-zA-Z0-9 ]').str.len()\n",
        "test_copy['special_chars'] = test_copy['question_text'].str.findall(r'[^a-zA-Z0-9 ]').str.len()\n",
        "\n",
        "# Number of unique words\n",
        "train_copy['unique_words'] = train_copy['question_text'].apply(lambda x: len(set(str(x).split())))\n",
        "test_copy['unique_words'] = test_copy['question_text'].apply(lambda x: len(set(str(x).split())))\n",
        "\n",
        "# Number of numerics\n",
        "train_copy['num_numerics'] = train_copy['question_text'].apply(lambda x: sum(c.isdigit() for c in x))\n",
        "test_copy['num_numerics'] = test_copy['question_text'].apply(lambda x: sum(c.isdigit() for c in x))\n",
        "\n",
        "# Let's check first 5 rows having new information for each question\n",
        "train_copy.head()"
      ],
      "execution_count": 7,
      "outputs": [
        {
          "output_type": "execute_result",
          "data": {
            "text/html": [
              "<div>\n",
              "<style scoped>\n",
              "    .dataframe tbody tr th:only-of-type {\n",
              "        vertical-align: middle;\n",
              "    }\n",
              "\n",
              "    .dataframe tbody tr th {\n",
              "        vertical-align: top;\n",
              "    }\n",
              "\n",
              "    .dataframe thead th {\n",
              "        text-align: right;\n",
              "    }\n",
              "</style>\n",
              "<table border=\"1\" class=\"dataframe\">\n",
              "  <thead>\n",
              "    <tr style=\"text-align: right;\">\n",
              "      <th></th>\n",
              "      <th>qid</th>\n",
              "      <th>question_text</th>\n",
              "      <th>target</th>\n",
              "      <th>num_words</th>\n",
              "      <th>special_chars</th>\n",
              "      <th>unique_words</th>\n",
              "      <th>num_numerics</th>\n",
              "    </tr>\n",
              "  </thead>\n",
              "  <tbody>\n",
              "    <tr>\n",
              "      <th>0</th>\n",
              "      <td>00002165364db923c7e6</td>\n",
              "      <td>How did Quebec nationalists see their province...</td>\n",
              "      <td>0</td>\n",
              "      <td>13</td>\n",
              "      <td>1</td>\n",
              "      <td>13</td>\n",
              "      <td>4</td>\n",
              "    </tr>\n",
              "    <tr>\n",
              "      <th>1</th>\n",
              "      <td>000032939017120e6e44</td>\n",
              "      <td>Do you have an adopted dog, how would you enco...</td>\n",
              "      <td>0</td>\n",
              "      <td>16</td>\n",
              "      <td>2</td>\n",
              "      <td>15</td>\n",
              "      <td>0</td>\n",
              "    </tr>\n",
              "    <tr>\n",
              "      <th>2</th>\n",
              "      <td>0000412ca6e4628ce2cf</td>\n",
              "      <td>Why does velocity affect time? Does velocity a...</td>\n",
              "      <td>0</td>\n",
              "      <td>10</td>\n",
              "      <td>2</td>\n",
              "      <td>8</td>\n",
              "      <td>0</td>\n",
              "    </tr>\n",
              "    <tr>\n",
              "      <th>3</th>\n",
              "      <td>000042bf85aa498cd78e</td>\n",
              "      <td>How did Otto von Guericke used the Magdeburg h...</td>\n",
              "      <td>0</td>\n",
              "      <td>9</td>\n",
              "      <td>1</td>\n",
              "      <td>9</td>\n",
              "      <td>0</td>\n",
              "    </tr>\n",
              "    <tr>\n",
              "      <th>4</th>\n",
              "      <td>0000455dfa3e01eae3af</td>\n",
              "      <td>Can I convert montra helicon D to a mountain b...</td>\n",
              "      <td>0</td>\n",
              "      <td>15</td>\n",
              "      <td>1</td>\n",
              "      <td>15</td>\n",
              "      <td>0</td>\n",
              "    </tr>\n",
              "  </tbody>\n",
              "</table>\n",
              "</div>"
            ],
            "text/plain": [
              "                    qid  ... num_numerics\n",
              "0  00002165364db923c7e6  ...            4\n",
              "1  000032939017120e6e44  ...            0\n",
              "2  0000412ca6e4628ce2cf  ...            0\n",
              "3  000042bf85aa498cd78e  ...            0\n",
              "4  0000455dfa3e01eae3af  ...            0\n",
              "\n",
              "[5 rows x 7 columns]"
            ]
          },
          "metadata": {
            "tags": []
          },
          "execution_count": 7
        }
      ]
    },
    {
      "cell_type": "code",
      "metadata": {
        "id": "zS3SsJwc6c3C",
        "colab_type": "code",
        "outputId": "d5ff7a46-2315-4b71-923a-4b4c96034f65",
        "colab": {
          "base_uri": "https://localhost:8080/",
          "height": 534
        }
      },
      "source": [
        "# Lets do some visualization\n",
        "# Showing distribution of questions in training data\n",
        "fig, ax = plt.subplots()\n",
        "g = sns.countplot(train.target, palette='viridis')\n",
        "g.set_xticklabels(['Sincere', 'Insincere'])\n",
        "g.set_yticklabels([])\n",
        "\n",
        "# function to show values on bars\n",
        "def show_values_on_bars(axs):\n",
        "    def _show_on_single_plot(ax):        \n",
        "        for p in ax.patches:\n",
        "            _x = p.get_x() + p.get_width() / 2\n",
        "            _y = p.get_y() + p.get_height()\n",
        "            value = '{:.0f}'.format(p.get_height())\n",
        "            ax.text(_x, _y, value, ha=\"center\") \n",
        "\n",
        "    if isinstance(axs, np.ndarray):\n",
        "        for idx, ax in np.ndenumerate(axs):\n",
        "            _show_on_single_plot(ax)\n",
        "    else:\n",
        "        _show_on_single_plot(axs)\n",
        "show_values_on_bars(ax)\n",
        "\n",
        "sns.despine(left=True, bottom=True)\n",
        "plt.xlabel('')\n",
        "plt.ylabel('')\n",
        "plt.title('Distribution of Questions', fontsize=30)\n",
        "plt.tick_params(axis='x', which='major', labelsize=15)\n",
        "fig.savefig('classes.png')\n",
        "plt.show()"
      ],
      "execution_count": 8,
      "outputs": [
        {
          "output_type": "display_data",
          "data": {
            "image/png": "[encoded data removed]",
            "text/plain": [
              "<Figure size 842.4x595.44 with 1 Axes>"
            ]
          },
          "metadata": {
            "tags": []
          }
        }
      ]
    },
    {
      "cell_type": "code",
      "metadata": {
        "id": "sp8BfLGc6c3F",
        "colab_type": "code",
        "outputId": "ce4cc990-9469-46e7-d47b-e74d643bfed6",
        "colab": {
          "base_uri": "https://localhost:8080/",
          "height": 50
        }
      },
      "source": [
        "# Let's check percentage of each type of question in training data\n",
        "num_insincere_questions = train.loc[train.target == 1]\n",
        "num_sincere_questions = train.loc[train.target == 0]\n",
        "percentage_insincere = len(num_insincere_questions) / train.shape[0] * 100\n",
        "percentage_sincere = len(num_sincere_questions) / train.shape[0] * 100\n",
        "\n",
        "print(\"Percentage of sincere questions: \", percentage_sincere)\n",
        "print(\"Percentage of insincere questions: \", percentage_insincere)"
      ],
      "execution_count": 9,
      "outputs": [
        {
          "output_type": "stream",
          "text": [
            "Percentage of sincere questions:  93.81298224821265\n",
            "Percentage of insincere questions:  6.187017751787352\n"
          ],
          "name": "stdout"
        }
      ]
    },
    {
      "cell_type": "code",
      "metadata": {
        "scrolled": true,
        "id": "3O3WMMHy6c3I",
        "colab_type": "code",
        "outputId": "520072e2-40fc-4225-a189-6e0fc0522150",
        "colab": {
          "base_uri": "https://localhost:8080/",
          "height": 222
        }
      },
      "source": [
        "# Now let's have a look at how insincere questions look like\n",
        "import random\n",
        "\n",
        "list_of_insincere_questions = random.sample(train.index[train.target == 1].tolist(), 10)\n",
        "print(list_of_insincere_questions)\n",
        "for i in list_of_insincere_questions:\n",
        "    print(train.iloc[i, 1])"
      ],
      "execution_count": 10,
      "outputs": [
        {
          "output_type": "stream",
          "text": [
            "[120246, 77629, 1002402, 1130564, 764701, 411379, 1278437, 998390, 594465, 1086596]\n",
            "Why are most serial killers homosexual?\n",
            "Since the Holocaust was invented after WWII, does that mean its revisionist?\n",
            "Why is it that inner-city blacks are doing so poorly in districts that have been run historically by Democrats?\n",
            "How can Sikhs tolerate Hindus in Punjab? I would like to know the opinion of Sikhs.\n",
            "Are you surprised that, as expected, the Novichok nerve agent wasn't proved to come from Russia? How many WMD cases do people need to understand that they are fed lies?\n",
            "How was New Zealand able to conquer America so easily at the start of WW2?\n",
            "Why do liberals feel they have the right to force what they feel is best on a vast majority of people who disagree with them, usually through punitive measures or outright violence?\n",
            "Is it true that it's worse for a racist to kill one black person than for someone who isn't racist to kill a thousand black people inadvertently?\n",
            "What can I do to avoid our future kid to become a homosexual when my wife get pregnant?\n",
            "Muslims: Are you guys ever going to try and change anything? Or are things going to continue like this?\n"
          ],
          "name": "stdout"
        }
      ]
    },
    {
      "cell_type": "code",
      "metadata": {
        "id": "MltzkkEF6c3K",
        "colab_type": "code",
        "outputId": "1d65b089-3929-41c6-a903-e6b78814bb72",
        "colab": {
          "base_uri": "https://localhost:8080/",
          "height": 34
        }
      },
      "source": [
        "'''\n",
        "Processing the whole training data takes a lot time. So,let's take a \n",
        "fraction of the dataset to speed up processing.\n",
        "'''\n",
        "train_new = train.sample(frac = 0.01)\n",
        "print(train_new.shape)"
      ],
      "execution_count": 11,
      "outputs": [
        {
          "output_type": "stream",
          "text": [
            "(13061, 3)\n"
          ],
          "name": "stdout"
        }
      ]
    },
    {
      "cell_type": "code",
      "metadata": {
        "id": "YwH-PeM_6c3M",
        "colab_type": "code",
        "outputId": "becad5a7-9a06-4a13-802e-9075ab3acc95",
        "colab": {
          "base_uri": "https://localhost:8080/",
          "height": 195
        }
      },
      "source": [
        "# Tokenizing with spacy\n",
        "nlp = en_core_web_sm.load()\n",
        "\n",
        "train_new['tokens'] = [nlp(ques, # disabling parts of the language processing pipeline which we don't need here\n",
        "                           disable = ['ner', # named entity recognition\n",
        "                                       'tagger', # part-of-speech tagger\n",
        "                                       'textcat', # document label categorizer\n",
        "                                     ]) for ques in train_new.question_text]\n",
        "\n",
        "# Printing the first five rows of the training data with their tokens\n",
        "train_new.sample(5)"
      ],
      "execution_count": 12,
      "outputs": [
        {
          "output_type": "execute_result",
          "data": {
            "text/html": [
              "<div>\n",
              "<style scoped>\n",
              "    .dataframe tbody tr th:only-of-type {\n",
              "        vertical-align: middle;\n",
              "    }\n",
              "\n",
              "    .dataframe tbody tr th {\n",
              "        vertical-align: top;\n",
              "    }\n",
              "\n",
              "    .dataframe thead th {\n",
              "        text-align: right;\n",
              "    }\n",
              "</style>\n",
              "<table border=\"1\" class=\"dataframe\">\n",
              "  <thead>\n",
              "    <tr style=\"text-align: right;\">\n",
              "      <th></th>\n",
              "      <th>qid</th>\n",
              "      <th>question_text</th>\n",
              "      <th>target</th>\n",
              "      <th>tokens</th>\n",
              "    </tr>\n",
              "  </thead>\n",
              "  <tbody>\n",
              "    <tr>\n",
              "      <th>884291</th>\n",
              "      <td>ad40eb7a2d5e052c242f</td>\n",
              "      <td>If Arvind Kejriwal might be the PM, then who w...</td>\n",
              "      <td>1</td>\n",
              "      <td>(If, Arvind, Kejriwal, might, be, the, PM, ,, ...</td>\n",
              "    </tr>\n",
              "    <tr>\n",
              "      <th>305422</th>\n",
              "      <td>3bd23d04e3f1ff0c9aeb</td>\n",
              "      <td>What are the challenges that Ben Bailey has fa...</td>\n",
              "      <td>0</td>\n",
              "      <td>(What, are, the, challenges, that, Ben, Bailey...</td>\n",
              "    </tr>\n",
              "    <tr>\n",
              "      <th>381558</th>\n",
              "      <td>4ac8869b2bd2deb5b229</td>\n",
              "      <td>Why there is still a qualifying percentage of ...</td>\n",
              "      <td>0</td>\n",
              "      <td>(Why, there, is, still, a, qualifying, percent...</td>\n",
              "    </tr>\n",
              "    <tr>\n",
              "      <th>376572</th>\n",
              "      <td>49d1e27dbb25a87bad35</td>\n",
              "      <td>How do I overcome my chronic dissatisfaction w...</td>\n",
              "      <td>0</td>\n",
              "      <td>(How, do, I, overcome, my, chronic, dissatisfa...</td>\n",
              "    </tr>\n",
              "    <tr>\n",
              "      <th>465766</th>\n",
              "      <td>5b3489835674980744bc</td>\n",
              "      <td>Why is Ace Chemicals not shutdown in the DC un...</td>\n",
              "      <td>0</td>\n",
              "      <td>(Why, is, Ace, Chemicals, not, shutdown, in, t...</td>\n",
              "    </tr>\n",
              "  </tbody>\n",
              "</table>\n",
              "</div>"
            ],
            "text/plain": [
              "                         qid  ...                                             tokens\n",
              "884291  ad40eb7a2d5e052c242f  ...  (If, Arvind, Kejriwal, might, be, the, PM, ,, ...\n",
              "305422  3bd23d04e3f1ff0c9aeb  ...  (What, are, the, challenges, that, Ben, Bailey...\n",
              "381558  4ac8869b2bd2deb5b229  ...  (Why, there, is, still, a, qualifying, percent...\n",
              "376572  49d1e27dbb25a87bad35  ...  (How, do, I, overcome, my, chronic, dissatisfa...\n",
              "465766  5b3489835674980744bc  ...  (Why, is, Ace, Chemicals, not, shutdown, in, t...\n",
              "\n",
              "[5 rows x 4 columns]"
            ]
          },
          "metadata": {
            "tags": []
          },
          "execution_count": 12
        }
      ]
    },
    {
      "cell_type": "code",
      "metadata": {
        "id": "qBvUGNxr6c3P",
        "colab_type": "code",
        "outputId": "c66908c4-5df2-48a6-8256-d4ae999353cb",
        "colab": {
          "base_uri": "https://localhost:8080/",
          "height": 195
        }
      },
      "source": [
        "# Number of toekns in each row\n",
        "train_new['num_tokens'] = [len(token) for token in train_new.tokens]\n",
        "train_new.sample(5)"
      ],
      "execution_count": 13,
      "outputs": [
        {
          "output_type": "execute_result",
          "data": {
            "text/html": [
              "<div>\n",
              "<style scoped>\n",
              "    .dataframe tbody tr th:only-of-type {\n",
              "        vertical-align: middle;\n",
              "    }\n",
              "\n",
              "    .dataframe tbody tr th {\n",
              "        vertical-align: top;\n",
              "    }\n",
              "\n",
              "    .dataframe thead th {\n",
              "        text-align: right;\n",
              "    }\n",
              "</style>\n",
              "<table border=\"1\" class=\"dataframe\">\n",
              "  <thead>\n",
              "    <tr style=\"text-align: right;\">\n",
              "      <th></th>\n",
              "      <th>qid</th>\n",
              "      <th>question_text</th>\n",
              "      <th>target</th>\n",
              "      <th>tokens</th>\n",
              "      <th>num_tokens</th>\n",
              "    </tr>\n",
              "  </thead>\n",
              "  <tbody>\n",
              "    <tr>\n",
              "      <th>965206</th>\n",
              "      <td>bd198f75d4bf8ff2cdbc</td>\n",
              "      <td>What do you think is the first thing any human...</td>\n",
              "      <td>0</td>\n",
              "      <td>(What, do, you, think, is, the, first, thing, ...</td>\n",
              "      <td>14</td>\n",
              "    </tr>\n",
              "    <tr>\n",
              "      <th>37949</th>\n",
              "      <td>076aee6b6d3ee6280460</td>\n",
              "      <td>What is the mean of state-of-the-art in machin...</td>\n",
              "      <td>0</td>\n",
              "      <td>(What, is, the, mean, of, state, -, of, -, the...</td>\n",
              "      <td>16</td>\n",
              "    </tr>\n",
              "    <tr>\n",
              "      <th>1104986</th>\n",
              "      <td>d88d775a826ccf9e4ede</td>\n",
              "      <td>What are the common uses of manganese?</td>\n",
              "      <td>0</td>\n",
              "      <td>(What, are, the, common, uses, of, manganese, ?)</td>\n",
              "      <td>8</td>\n",
              "    </tr>\n",
              "    <tr>\n",
              "      <th>532591</th>\n",
              "      <td>68479e7414914a564bd5</td>\n",
              "      <td>How can I be a Buddhist while avoiding Western...</td>\n",
              "      <td>0</td>\n",
              "      <td>(How, can, I, be, a, Buddhist, while, avoiding...</td>\n",
              "      <td>11</td>\n",
              "    </tr>\n",
              "    <tr>\n",
              "      <th>1090470</th>\n",
              "      <td>d5b2bf12d7ebdd22906e</td>\n",
              "      <td>Why I am afraid of losing my parents?</td>\n",
              "      <td>0</td>\n",
              "      <td>(Why, I, am, afraid, of, losing, my, parents, ?)</td>\n",
              "      <td>9</td>\n",
              "    </tr>\n",
              "  </tbody>\n",
              "</table>\n",
              "</div>"
            ],
            "text/plain": [
              "                          qid  ... num_tokens\n",
              "965206   bd198f75d4bf8ff2cdbc  ...         14\n",
              "37949    076aee6b6d3ee6280460  ...         16\n",
              "1104986  d88d775a826ccf9e4ede  ...          8\n",
              "532591   68479e7414914a564bd5  ...         11\n",
              "1090470  d5b2bf12d7ebdd22906e  ...          9\n",
              "\n",
              "[5 rows x 5 columns]"
            ]
          },
          "metadata": {
            "tags": []
          },
          "execution_count": 13
        }
      ]
    },
    {
      "cell_type": "code",
      "metadata": {
        "id": "7c7NHrj86c3R",
        "colab_type": "code",
        "outputId": "fd86be2a-9af1-487d-e389-300708fa1ad6",
        "colab": {
          "base_uri": "https://localhost:8080/",
          "height": 534
        }
      },
      "source": [
        "# using seaborns boxplot to visualize number of tokens per question\n",
        "fig, ax = plt.subplots()\n",
        "g = sns.boxplot(x=train_new.target, y=train_new.num_tokens, palette='viridis')\n",
        "g.set_xticklabels(['Sincere', 'Insincere'])\n",
        "g.set_yticklabels([])\n",
        "\n",
        "sns.despine(left=True, bottom=True)\n",
        "plt.xlabel('')\n",
        "plt.ylabel('')\n",
        "plt.title('Number of Tokens per Question', fontsize=30)\n",
        "plt.tick_params(axis='x', which='major', labelsize=15)\n",
        "fig.savefig('tokens.png')\n",
        "plt.show()"
      ],
      "execution_count": 14,
      "outputs": [
        {
          "output_type": "display_data",
          "data": {
            "image/png": "[encoded data removed]",
            "text/plain": [
              "<Figure size 842.4x595.44 with 1 Axes>"
            ]
          },
          "metadata": {
            "tags": []
          }
        }
      ]
    },
    {
      "cell_type": "code",
      "metadata": {
        "id": "xRJAAiKz6c3T",
        "colab_type": "code",
        "outputId": "96e263ab-5f91-41cf-e63f-1d20da4662b3",
        "colab": {
          "base_uri": "https://localhost:8080/",
          "height": 262
        }
      },
      "source": [
        "# Now, getting number of sentences per question\n",
        "print(list(train_new.iloc[0,3].sents))\n",
        "\n",
        "sents = [list(x.sents) for x in train_new.tokens]\n",
        "train_new['num_sents'] = [len(sent) for sent in sents]\n",
        "train_new.sample(5)"
      ],
      "execution_count": 15,
      "outputs": [
        {
          "output_type": "stream",
          "text": [
            "[What is the iupac nane of (ch3), 3-c-o-c2h5?]\n"
          ],
          "name": "stdout"
        },
        {
          "output_type": "execute_result",
          "data": {
            "text/html": [
              "<div>\n",
              "<style scoped>\n",
              "    .dataframe tbody tr th:only-of-type {\n",
              "        vertical-align: middle;\n",
              "    }\n",
              "\n",
              "    .dataframe tbody tr th {\n",
              "        vertical-align: top;\n",
              "    }\n",
              "\n",
              "    .dataframe thead th {\n",
              "        text-align: right;\n",
              "    }\n",
              "</style>\n",
              "<table border=\"1\" class=\"dataframe\">\n",
              "  <thead>\n",
              "    <tr style=\"text-align: right;\">\n",
              "      <th></th>\n",
              "      <th>qid</th>\n",
              "      <th>question_text</th>\n",
              "      <th>target</th>\n",
              "      <th>tokens</th>\n",
              "      <th>num_tokens</th>\n",
              "      <th>num_sents</th>\n",
              "    </tr>\n",
              "  </thead>\n",
              "  <tbody>\n",
              "    <tr>\n",
              "      <th>303716</th>\n",
              "      <td>3b7a19297f2dbbbfe336</td>\n",
              "      <td>Is it strange to find neither gender physicall...</td>\n",
              "      <td>0</td>\n",
              "      <td>(Is, it, strange, to, find, neither, gender, p...</td>\n",
              "      <td>10</td>\n",
              "      <td>1</td>\n",
              "    </tr>\n",
              "    <tr>\n",
              "      <th>305111</th>\n",
              "      <td>3bc3926a2cedc9dcef1f</td>\n",
              "      <td>Does everyone have a secret in their life?</td>\n",
              "      <td>0</td>\n",
              "      <td>(Does, everyone, have, a, secret, in, their, l...</td>\n",
              "      <td>9</td>\n",
              "      <td>1</td>\n",
              "    </tr>\n",
              "    <tr>\n",
              "      <th>238111</th>\n",
              "      <td>2e9347e12c47b92840d1</td>\n",
              "      <td>How can I programmatically boot to the BIOS fr...</td>\n",
              "      <td>0</td>\n",
              "      <td>(How, can, I, programmatically, boot, to, the,...</td>\n",
              "      <td>16</td>\n",
              "      <td>1</td>\n",
              "    </tr>\n",
              "    <tr>\n",
              "      <th>712450</th>\n",
              "      <td>8b774e1bf568a98254cc</td>\n",
              "      <td>Is it possible to be a voice actor and a hocke...</td>\n",
              "      <td>0</td>\n",
              "      <td>(Is, it, possible, to, be, a, voice, actor, an...</td>\n",
              "      <td>28</td>\n",
              "      <td>1</td>\n",
              "    </tr>\n",
              "    <tr>\n",
              "      <th>1212279</th>\n",
              "      <td>ed9a2e751b44aa2a6283</td>\n",
              "      <td>How does someone get their family to love and ...</td>\n",
              "      <td>0</td>\n",
              "      <td>(How, does, someone, get, their, family, to, l...</td>\n",
              "      <td>12</td>\n",
              "      <td>1</td>\n",
              "    </tr>\n",
              "  </tbody>\n",
              "</table>\n",
              "</div>"
            ],
            "text/plain": [
              "                          qid  ... num_sents\n",
              "303716   3b7a19297f2dbbbfe336  ...         1\n",
              "305111   3bc3926a2cedc9dcef1f  ...         1\n",
              "238111   2e9347e12c47b92840d1  ...         1\n",
              "712450   8b774e1bf568a98254cc  ...         1\n",
              "1212279  ed9a2e751b44aa2a6283  ...         1\n",
              "\n",
              "[5 rows x 6 columns]"
            ]
          },
          "metadata": {
            "tags": []
          },
          "execution_count": 15
        }
      ]
    },
    {
      "cell_type": "code",
      "metadata": {
        "id": "cxxsEHdb6c3X",
        "colab_type": "code",
        "outputId": "ce556718-4754-4a11-f9ed-3deab4dea1d1",
        "colab": {
          "base_uri": "https://localhost:8080/",
          "height": 534
        }
      },
      "source": [
        "# plotting number of sentences per question\n",
        "fig, ax = plt.subplots()\n",
        "g = sns.countplot(train_new.num_sents, hue=train_new.target, palette='viridis')\n",
        "g.set_yticklabels([])\n",
        "\n",
        "# using log scale on y-axis so we can better see the questions with more sentences\n",
        "ax.set(yscale='log')\n",
        "\n",
        "sns.despine(left=True, bottom=True)\n",
        "plt.xlabel('')\n",
        "plt.ylabel('')\n",
        "plt.title('Number of Sentences per Question', fontsize=30)\n",
        "plt.tick_params(axis='x', which='major', labelsize=15)\n",
        "fig.savefig('sentences.png')\n",
        "plt.show()"
      ],
      "execution_count": 16,
      "outputs": [
        {
          "output_type": "display_data",
          "data": {
            "image/png": "[encoded data removed]",
            "text/plain": [
              "<Figure size 842.4x595.44 with 1 Axes>"
            ]
          },
          "metadata": {
            "tags": []
          }
        }
      ]
    },
    {
      "cell_type": "code",
      "metadata": {
        "id": "d93QyBxf6c3a",
        "colab_type": "code",
        "outputId": "eb15b03b-ae9e-4f06-c7dc-88692441b9fb",
        "colab": {
          "base_uri": "https://localhost:8080/",
          "height": 50
        }
      },
      "source": [
        "# Finding most common words\n",
        "# Defining function to cleanup text and remove personal pronouns, stopwords, and puncuation\n",
        "nltk.download('stopwords')\n",
        "punctuations = string.punctuation\n",
        "stop_words = set(stopwords.words(\"english\"))\n",
        "\n",
        "def cleanup_text(docs):\n",
        "    texts = []\n",
        "    for doc in docs:\n",
        "        doc = re.sub(r'[^a-zA-Z\\s]', '', doc, re.I|re.A)\n",
        "        doc = nlp(doc, disable=['ner'])\n",
        "        tokens = [tok.lemma_.lower().strip() for tok in doc if tok.lemma_ != '-PRON-']\n",
        "        tokens = [tok for tok in tokens if tok not in stop_words and tok not in punctuations]\n",
        "        tokens = ' '.join(tokens)\n",
        "        texts.append(tokens)\n",
        "    return pd.Series(texts)"
      ],
      "execution_count": 17,
      "outputs": [
        {
          "output_type": "stream",
          "text": [
            "[nltk_data] Downloading package stopwords to /root/nltk_data...\n",
            "[nltk_data]   Unzipping corpora/stopwords.zip.\n"
          ],
          "name": "stdout"
        }
      ]
    },
    {
      "cell_type": "code",
      "metadata": {
        "id": "3Cav4aqh6c3d",
        "colab_type": "code",
        "colab": {}
      },
      "source": [
        "# Grabbing all text associated with insincere questions\n",
        "insincere_text = [text for text in train_new[train_new['target'] == 1]['question_text']]\n",
        "insincere_clean = cleanup_text(insincere_text)\n",
        "insincere_clean = ' '.join(insincere_clean).split()"
      ],
      "execution_count": 0,
      "outputs": []
    },
    {
      "cell_type": "code",
      "metadata": {
        "id": "-_-AgfCv6c3g",
        "colab_type": "code",
        "outputId": "534e94d6-009b-4573-983e-a1456818562a",
        "colab": {
          "base_uri": "https://localhost:8080/",
          "height": 529
        }
      },
      "source": [
        "# Counting all unique words\n",
        "insincere_counts = Counter(insincere_clean)\n",
        "# Getting words and word counts\n",
        "insincere_common_words = [word[0] for word in insincere_counts.most_common(20)]\n",
        "insincere_common_counts = [word[1] for word in insincere_counts.most_common(20)]\n",
        "\n",
        "# Plotting 20 most common words in insincere questions\n",
        "sns.barplot(insincere_common_words, insincere_common_counts, palette='viridis')\n",
        "sns.despine(left=True, bottom=True)\n",
        "plt.xlabel('')\n",
        "plt.ylabel('')\n",
        "plt.title('Insincere Questions Common Words', fontsize=30)\n",
        "plt.tick_params(axis='x', which='major', labelsize=10)\n",
        "fig.savefig('insincere_words.png')\n",
        "plt.show()"
      ],
      "execution_count": 19,
      "outputs": [
        {
          "output_type": "display_data",
          "data": {
            "image/png": "[encoded data removed]",
            "text/plain": [
              "<Figure size 842.4x595.44 with 1 Axes>"
            ]
          },
          "metadata": {
            "tags": []
          }
        }
      ]
    },
    {
      "cell_type": "code",
      "metadata": {
        "id": "qwEMj0WH6c3j",
        "colab_type": "code",
        "colab": {}
      },
      "source": [
        "# Grabbing all text associated with sincere questions\n",
        "sincere_text = [text for text in train_new[train_new['target'] == 0]['question_text']]\n",
        "sincere_clean = cleanup_text(sincere_text)\n",
        "sincere_clean = ' '.join(sincere_clean).split()"
      ],
      "execution_count": 0,
      "outputs": []
    },
    {
      "cell_type": "code",
      "metadata": {
        "id": "fu_57Y5e6c3m",
        "colab_type": "code",
        "outputId": "c80098c8-7139-40e4-ed3c-0854aa58fd5c",
        "colab": {
          "base_uri": "https://localhost:8080/",
          "height": 529
        }
      },
      "source": [
        "# Counting all unique words\n",
        "sincere_counts = Counter(sincere_clean)\n",
        "# Getting words and word counts\n",
        "sincere_common_words = [word[0] for word in sincere_counts.most_common(20)]\n",
        "sincere_common_counts = [word[1] for word in sincere_counts.most_common(20)]\n",
        "\n",
        "# Plotting 20 most common words in sincere questions\n",
        "sns.barplot(sincere_common_words, sincere_common_counts, palette='viridis')\n",
        "sns.despine(left=True, bottom=True)\n",
        "plt.xlabel('')\n",
        "plt.ylabel('')\n",
        "plt.title('Sincere Questions Common Words', fontsize=30)\n",
        "plt.tick_params(axis='x', which='major', labelsize=10)\n",
        "fig.savefig('sincere.png')\n",
        "plt.show()"
      ],
      "execution_count": 21,
      "outputs": [
        {
          "output_type": "display_data",
          "data": {
            "image/png": "[encoded data removed]",
            "text/plain": [
              "<Figure size 842.4x595.44 with 1 Axes>"
            ]
          },
          "metadata": {
            "tags": []
          }
        }
      ]
    },
    {
      "cell_type": "markdown",
      "metadata": {
        "id": "Ol-RHRWH6c3p",
        "colab_type": "text"
      },
      "source": [
        "# Word Embedding "
      ]
    },
    {
      "cell_type": "markdown",
      "metadata": {
        "id": "11so6bMm6c3q",
        "colab_type": "text"
      },
      "source": [
        "The next few steps involve pre-processing:\n",
        "\n",
        "1) Split the training dataset into train and val sample. Cross validation is a time consuming \n",
        "   process and so we will do simple train val split.\n",
        "\n",
        "2) Fill up the missing values in the text column with 'na'\n",
        "\n",
        "3) Tokenize the text column and convert them to vector sequences\n",
        "\n",
        "4) Pad the sequence as needed - if the number of words in the text is \n",
        "   greater than 'max_len' trunacate them to 'max_len' or if the number of words \n",
        "   in the text is lesser than 'max_len' add zeros for remaining values.\n"
      ]
    },
    {
      "cell_type": "code",
      "metadata": {
        "id": "5P1qcVA_6c3r",
        "colab_type": "code",
        "outputId": "95cd6f15-7c42-4eb5-e828-f09e0918544f",
        "colab": {
          "base_uri": "https://localhost:8080/",
          "height": 34
        }
      },
      "source": [
        "'''\n",
        "Processing the whole training data takes a lot time. So,let's take a \n",
        "fraction of the dataset to speed up processing.\n",
        "'''\n",
        "'''\n",
        "train_process = train.sample(frac = 0.3)\n",
        "print(train_process.shape)\n",
        "\n",
        "test_df = test.sample(frac = 0.3)\n",
        "print(test_df.shape)\n",
        "'''"
      ],
      "execution_count": 101,
      "outputs": [
        {
          "output_type": "execute_result",
          "data": {
            "text/plain": [
              "'\\ntrain_process = train.sample(frac = 0.3)\\nprint(train_process.shape)\\n\\ntest_df = test.sample(frac = 0.3)\\nprint(test_df.shape)\\n'"
            ]
          },
          "metadata": {
            "tags": []
          },
          "execution_count": 101
        }
      ]
    },
    {
      "cell_type": "code",
      "metadata": {
        "id": "TTQIFLwM6c39",
        "colab_type": "code",
        "colab": {}
      },
      "source": [
        "# Configuring the embedding matrix\n",
        "\n",
        "embed_size = 300            #Each one-hot input vector is a 300 dimensional vector.\n",
        "max_features = 120000        #Number of unique words to use (i.e num rows in embedding vector)\n",
        "maxlen = 70               # max number of words in a question to use"
      ],
      "execution_count": 0,
      "outputs": []
    },
    {
      "cell_type": "code",
      "metadata": {
        "id": "CFN4nny_mbYJ",
        "colab_type": "code",
        "colab": {}
      },
      "source": [
        "puncts = [',', '.', '\"', ':', ')', '(', '-', '!', '?', '|', ';', \"'\", '$', '&', '/', '[', ']', '>', '%', '=', '#', '*', '+', '\\\\', '•',  '~', '@', '£', \n",
        " '·', '_', '{', '}', '©', '^', '®', '`',  '<', '→', '°', '€', '™', '›',  '♥', '←', '×', '§', '″', '′', 'Â', '█', '½', 'à', '…', \n",
        " '“', '★', '”', '–', '●', 'â', '►', '−', '¢', '²', '¬', '░', '¶', '↑', '±', '¿', '▾', '═', '¦', '║', '―', '¥', '▓', '—', '‹', '─', \n",
        " '▒', '：', '¼', '⊕', '▼', '▪', '†', '■', '’', '▀', '¨', '▄', '♫', '☆', 'é', '¯', '♦', '¤', '▲', 'è', '¸', '¾', 'Ã', '⋅', '‘', '∞', \n",
        " '∙', '）', '↓', '、', '│', '（', '»', '，', '♪', '╩', '╚', '³', '・', '╦', '╣', '╔', '╗', '▬', '❤', 'ï', 'Ø', '¹', '≤', '‡', '√', ]\n",
        "def clean_text(x):\n",
        "    x = str(x)\n",
        "    for punct in puncts:\n",
        "        x = x.replace(punct, f' {punct} ')\n",
        "    return x\n",
        "\n",
        "def split_text(x):\n",
        "    x = wordninja.split(x)\n",
        "    return '-'.join(x)"
      ],
      "execution_count": 0,
      "outputs": []
    },
    {
      "cell_type": "code",
      "metadata": {
        "id": "XRwdfYUl6c4G",
        "colab_type": "code",
        "colab": {}
      },
      "source": [
        "def load_and_prec():\n",
        "    train_df = pd.read_csv(\"/content/drive/My Drive/Colab Notebooks/train.csv\")\n",
        "    test_df = pd.read_csv(\"/content/drive/My Drive/Colab Notebooks/test.csv\")\n",
        "    \n",
        "    train_df[\"question_text\"] = train_df[\"question_text\"].str.lower()\n",
        "    test_df[\"question_text\"] = test_df[\"question_text\"].str.lower()\n",
        "    \n",
        "    train_df[\"question_text\"] = train_df[\"question_text\"].apply(lambda x: clean_text(x))\n",
        "    test_df[\"question_text\"] = test_df[\"question_text\"].apply(lambda x: clean_text(x))\n",
        "    \n",
        "    print(\"Train shape : \",train_df.shape)\n",
        "    print(\"Test shape : \",test_df.shape)\n",
        "    \n",
        "    ## split to train and val\n",
        "    train_df, val_df = train_test_split(train_df, test_size=0.001, random_state=2018) \n",
        "\n",
        "     ## fill up the missing values\n",
        "    train_X = train_df[\"question_text\"].fillna(\"_##_\").values\n",
        "    val_X = val_df[\"question_text\"].fillna(\"_##_\").values\n",
        "    test_X = test_df[\"question_text\"].fillna(\"_##_\").values\n",
        "\n",
        "    ## Tokenize the sentences\n",
        "    tokenizer = Tokenizer(num_words=max_features)\n",
        "    tokenizer.fit_on_texts(list(train_X))\n",
        "    train_X = tokenizer.texts_to_sequences(train_X)\n",
        "    val_X = tokenizer.texts_to_sequences(val_X)\n",
        "    test_X = tokenizer.texts_to_sequences(test_X)\n",
        "\n",
        "    ## Pad the sentences \n",
        "    train_X = pad_sequences(train_X, maxlen=maxlen)\n",
        "    val_X = pad_sequences(val_X, maxlen=maxlen)\n",
        "    test_X = pad_sequences(test_X, maxlen=maxlen)\n",
        "\n",
        "    ## Get the target values\n",
        "    train_y = train_df['target'].values\n",
        "    val_y = val_df['target'].values \n",
        "     \n",
        "\n",
        "    #shuffling the data\n",
        "    np.random.seed(2018)\n",
        "    trn_idx = np.random.permutation(len(train_X))\n",
        "    val_idx = np.random.permutation(len(val_X))\n",
        "\n",
        "    train_X = train_X[trn_idx]\n",
        "    val_X = val_X[val_idx]\n",
        "    train_y = train_y[trn_idx]\n",
        "    val_y = val_y[val_idx]    \n",
        "    \n",
        "    return train_X, val_X, test_X, train_y, val_y, tokenizer.word_index\n"
      ],
      "execution_count": 0,
      "outputs": []
    },
    {
      "cell_type": "code",
      "metadata": {
        "id": "9Uag8MyV6c4M",
        "colab_type": "code",
        "colab": {}
      },
      "source": [
        "def load_glove(word_index):\n",
        "    EMBEDDING_FILE = '/content/drive/My Drive/Colab Notebooks/glove.840B.300d.txt'\n",
        "    def get_coefs(word,*arr): return word, np.asarray(arr, dtype='float32')\n",
        "    embeddings_index = dict(get_coefs(*o.split(\" \")) for o in open(EMBEDDING_FILE, encoding=\"utf8\"))\n",
        "\n",
        "    all_embs = np.stack(embeddings_index.values())\n",
        "    emb_mean,emb_std = -0.005838499,0.48782197\n",
        "    embed_size = all_embs.shape[1]\n",
        "\n",
        "    # word_index = tokenizer.word_index\n",
        "    nb_words = min(max_features, len(word_index))\n",
        "    embedding_matrix = np.random.normal(emb_mean, emb_std, (nb_words, embed_size))\n",
        "    for word, i in word_index.items():\n",
        "        if i >= max_features: continue\n",
        "        embedding_vector = embeddings_index.get(word)\n",
        "        if embedding_vector is not None: embedding_matrix[i] = embedding_vector\n",
        "            \n",
        "    return embedding_matrix "
      ],
      "execution_count": 0,
      "outputs": []
    },
    {
      "cell_type": "code",
      "metadata": {
        "id": "CjpodtNm6c4P",
        "colab_type": "code",
        "colab": {}
      },
      "source": [
        "\n",
        "\n",
        "#CNN Model\n",
        "\n",
        "def model_cnn(embedding_matrix):\n",
        "    filter_sizes = [1,2,3,5]\n",
        "    num_filters = 36\n",
        "\n",
        "    inp = Input(shape=(maxlen,))\n",
        "    x = Embedding(max_features, embed_size, weights=[embedding_matrix])(inp)\n",
        "    x = Reshape((maxlen, embed_size, 1))(x)\n",
        "\n",
        "    maxpool_pool = []\n",
        "    for i in range(len(filter_sizes)):\n",
        "        conv = Conv2D(num_filters, kernel_size=(filter_sizes[i], embed_size),\n",
        "                                     kernel_initializer='he_normal', activation='elu')(x)\n",
        "        maxpool_pool.append(MaxPool2D(pool_size=(maxlen - filter_sizes[i] + 1, 1))(conv))\n",
        "\n",
        "    z = Concatenate(axis=1)(maxpool_pool)   \n",
        "    z = Flatten()(z)\n",
        "    z = Dropout(0.1)(z)\n",
        "\n",
        "    outp = Dense(1, activation=\"sigmoid\")(z)\n",
        "\n",
        "    model = Model(inputs=inp, outputs=outp)\n",
        "    model.compile(loss='binary_crossentropy', optimizer='adam', metrics=['accuracy'])\n",
        "    \n",
        "    return model"
      ],
      "execution_count": 0,
      "outputs": []
    },
    {
      "cell_type": "code",
      "metadata": {
        "id": "0tMVx8uS6c4S",
        "colab_type": "code",
        "colab": {}
      },
      "source": [
        "\n",
        "\n",
        "class Attention(Layer):\n",
        "    def __init__(self, step_dim,\n",
        "                 W_regularizer=None, b_regularizer=None,\n",
        "                 W_constraint=None, b_constraint=None,\n",
        "                 bias=True, **kwargs):\n",
        "        self.supports_masking = True\n",
        "        self.init = initializers.get('glorot_uniform')\n",
        "\n",
        "        self.W_regularizer = regularizers.get(W_regularizer)\n",
        "        self.b_regularizer = regularizers.get(b_regularizer)\n",
        "\n",
        "        self.W_constraint = constraints.get(W_constraint)\n",
        "        self.b_constraint = constraints.get(b_constraint)\n",
        "\n",
        "        self.bias = bias\n",
        "        self.step_dim = step_dim\n",
        "        self.features_dim = 0\n",
        "        super(Attention, self).__init__(**kwargs)\n",
        "        \n",
        "        \n",
        "    def build(self, input_shape):\n",
        "        assert len(input_shape) == 3\n",
        "\n",
        "        self.W = self.add_weight((input_shape[-1],),\n",
        "                                 initializer=self.init,\n",
        "                                 name='{}_W'.format(self.name),\n",
        "                                 regularizer=self.W_regularizer,\n",
        "                                 constraint=self.W_constraint)\n",
        "        self.features_dim = input_shape[-1]\n",
        "\n",
        "        if self.bias:\n",
        "            self.b = self.add_weight((input_shape[1],),\n",
        "                                     initializer='zero',\n",
        "                                     name='{}_b'.format(self.name),\n",
        "                                     regularizer=self.b_regularizer,\n",
        "                                     constraint=self.b_constraint)\n",
        "        else:\n",
        "            self.b = None\n",
        "\n",
        "        self.built = True\n",
        "\n",
        "    def compute_mask(self, input, input_mask=None):\n",
        "        return None\n",
        "\n",
        "    def call(self, x, mask=None):\n",
        "        features_dim = self.features_dim\n",
        "        step_dim = self.step_dim\n",
        "\n",
        "        eij = K.reshape(K.dot(K.reshape(x, (-1, features_dim)),\n",
        "                        K.reshape(self.W, (features_dim, 1))), (-1, step_dim))\n",
        "\n",
        "        if self.bias:\n",
        "            eij += self.b\n",
        "\n",
        "        eij = K.tanh(eij)\n",
        "\n",
        "        a = K.exp(eij)\n",
        "\n",
        "        if mask is not None:\n",
        "            a *= K.cast(mask, K.floatx())\n",
        "\n",
        "        a /= K.cast(K.sum(a, axis=1, keepdims=True) + K.epsilon(), K.floatx())\n",
        "\n",
        "        a = K.expand_dims(a)\n",
        "        weighted_input = x * a\n",
        "        return K.sum(weighted_input, axis=1)\n",
        "\n",
        "    def compute_output_shape(self, input_shape):\n",
        "        return input_shape[0],  self.features_dim"
      ],
      "execution_count": 0,
      "outputs": []
    },
    {
      "cell_type": "code",
      "metadata": {
        "id": "5GofZml16c4V",
        "colab_type": "code",
        "colab": {}
      },
      "source": [
        "# Main model\n",
        "\n",
        "def model_lstm_du(embedding_matrix):\n",
        "    inp = Input(shape=(maxlen,))\n",
        "    x = Embedding(max_features, embed_size, weights=[embedding_matrix])(inp)\n",
        "    x = Bidirectional(CuDNNGRU(64, return_sequences=True))(x)\n",
        "    avg_pool = GlobalAveragePooling1D()(x)\n",
        "    max_pool = GlobalMaxPooling1D()(x)\n",
        "    conc = concatenate([avg_pool, max_pool])\n",
        "    conc = Dense(64, activation=\"relu\")(conc)\n",
        "    conc = Dropout(0.1)(conc)\n",
        "    outp = Dense(1, activation=\"sigmoid\")(conc)\n",
        "    \n",
        "    model = Model(inputs=inp, outputs=outp)\n",
        "    model.compile(loss='binary_crossentropy', optimizer='adam', metrics=['accuracy'])\n",
        "    return model"
      ],
      "execution_count": 0,
      "outputs": []
    },
    {
      "cell_type": "code",
      "metadata": {
        "id": "cJo1wAgd6c4Y",
        "colab_type": "code",
        "colab": {}
      },
      "source": [
        "def train_pred(model, epochs=2):\n",
        "    for e in range(epochs):\n",
        "        model.fit(train_X, train_y, batch_size=512, epochs=1, validation_data=(val_X, val_y))\n",
        "        pred_val_y = model.predict([val_X], batch_size=1024, verbose=0)\n",
        "    pred_test_y = model.predict([test_X], batch_size=1024, verbose=0)\n",
        "    return pred_val_y, pred_test_y"
      ],
      "execution_count": 0,
      "outputs": []
    },
    {
      "cell_type": "code",
      "metadata": {
        "id": "g1Ui5CdS6c4a",
        "colab_type": "code",
        "outputId": "670ba466-3b6c-493f-bd4d-464279f1198d",
        "colab": {
          "base_uri": "https://localhost:8080/",
          "height": 104
        }
      },
      "source": [
        "train_X, val_X, test_X, train_y, val_y, word_index = load_and_prec()\n",
        "vocab = []\n",
        "for w,k in word_index.items():\n",
        "    vocab.append(w)\n",
        "    if k >= max_features:\n",
        "        break\n",
        "embedding_matrix_1 = load_glove(word_index)"
      ],
      "execution_count": 166,
      "outputs": [
        {
          "output_type": "stream",
          "text": [
            "Train shape :  (1306122, 3)\n",
            "Test shape :  (375806, 2)\n"
          ],
          "name": "stdout"
        },
        {
          "output_type": "stream",
          "text": [
            "/usr/local/lib/python3.6/dist-packages/IPython/core/interactiveshell.py:2882: FutureWarning: arrays to stack must be passed as a \"sequence\" type such as list or tuple. Support for non-sequence iterables such as generators is deprecated as of NumPy 1.16 and will raise an error in the future.\n",
            "  exec(code_obj, self.user_global_ns, self.user_ns)\n"
          ],
          "name": "stderr"
        }
      ]
    },
    {
      "cell_type": "code",
      "metadata": {
        "id": "YMWoClrg6c4d",
        "colab_type": "code",
        "outputId": "07c47296-2279-4db1-adf3-76c3a839bd12",
        "colab": {
          "base_uri": "https://localhost:8080/",
          "height": 34
        }
      },
      "source": [
        "embedding_matrix = np.mean([embedding_matrix_1], axis = 0)\n",
        "np.shape(embedding_matrix)"
      ],
      "execution_count": 167,
      "outputs": [
        {
          "output_type": "execute_result",
          "data": {
            "text/plain": [
              "(120000, 300)"
            ]
          },
          "metadata": {
            "tags": []
          },
          "execution_count": 167
        }
      ]
    },
    {
      "cell_type": "code",
      "metadata": {
        "id": "gnX0Xgp333an",
        "colab_type": "code",
        "colab": {
          "base_uri": "https://localhost:8080/",
          "height": 34
        },
        "outputId": "5b088ee5-f58a-4c3b-ab00-65754eccd58c"
      },
      "source": [
        "np.shape(embedding_matrix_1)"
      ],
      "execution_count": 168,
      "outputs": [
        {
          "output_type": "execute_result",
          "data": {
            "text/plain": [
              "(120000, 300)"
            ]
          },
          "metadata": {
            "tags": []
          },
          "execution_count": 168
        }
      ]
    },
    {
      "cell_type": "code",
      "metadata": {
        "id": "VjEdzkGO1lxZ",
        "colab_type": "code",
        "colab": {}
      },
      "source": [
        "outputs = []"
      ],
      "execution_count": 0,
      "outputs": []
    },
    {
      "cell_type": "code",
      "metadata": {
        "id": "VLzaWXJn1ziZ",
        "colab_type": "code",
        "colab": {
          "base_uri": "https://localhost:8080/",
          "height": 168
        },
        "outputId": "ea6391d7-a54d-4cd9-cff6-86d66cb11b57"
      },
      "source": [
        "pred_val_y, pred_test_y = train_pred(model_cnn(embedding_matrix_1), epochs = 3) # GloVe only\n",
        "outputs.append([pred_val_y, pred_test_y, '2d CNN GloVe'])"
      ],
      "execution_count": 170,
      "outputs": [
        {
          "output_type": "stream",
          "text": [
            "Train on 1304815 samples, validate on 1307 samples\n",
            "Epoch 1/1\n",
            "1304815/1304815 [==============================] - 107s 82us/step - loss: 0.1117 - acc: 0.9559 - val_loss: 0.0931 - val_acc: 0.9587\n",
            "Train on 1304815 samples, validate on 1307 samples\n",
            "Epoch 1/1\n",
            "1304815/1304815 [==============================] - 105s 80us/step - loss: 0.0922 - acc: 0.9630 - val_loss: 0.0917 - val_acc: 0.9625\n",
            "Train on 1304815 samples, validate on 1307 samples\n",
            "Epoch 1/1\n",
            "1304815/1304815 [==============================] - 105s 80us/step - loss: 0.0770 - acc: 0.9696 - val_loss: 0.0964 - val_acc: 0.9610\n"
          ],
          "name": "stdout"
        }
      ]
    },
    {
      "cell_type": "code",
      "metadata": {
        "id": "_ZhEGFBD6c4f",
        "colab_type": "code",
        "outputId": "7e084c1b-7de3-4546-ebd5-99aa0d41e62e",
        "colab": {
          "base_uri": "https://localhost:8080/",
          "height": 168
        }
      },
      "source": [
        "pred_val_y, pred_test_y = train_pred(model_lstm_du(embedding_matrix_1), epochs = 3)\n",
        "outputs.append([pred_val_y, pred_test_y, 'BiLSTM w/ MaxPooling'])"
      ],
      "execution_count": 171,
      "outputs": [
        {
          "output_type": "stream",
          "text": [
            "Train on 1304815 samples, validate on 1307 samples\n",
            "Epoch 1/1\n",
            "1304815/1304815 [==============================] - 90s 69us/step - loss: 0.1093 - acc: 0.9568 - val_loss: 0.0928 - val_acc: 0.9579\n",
            "Train on 1304815 samples, validate on 1307 samples\n",
            "Epoch 1/1\n",
            "1304815/1304815 [==============================] - 88s 68us/step - loss: 0.0893 - acc: 0.9641 - val_loss: 0.0950 - val_acc: 0.9587\n",
            "Train on 1304815 samples, validate on 1307 samples\n",
            "Epoch 1/1\n",
            "1304815/1304815 [==============================] - 89s 68us/step - loss: 0.0747 - acc: 0.9699 - val_loss: 0.0964 - val_acc: 0.9640\n"
          ],
          "name": "stdout"
        }
      ]
    },
    {
      "cell_type": "code",
      "metadata": {
        "id": "HJulrL1L6c4i",
        "colab_type": "code",
        "colab": {}
      },
      "source": [
        "# pred_test_y = np.sum([outputs[i][1] * weights[i] for i in range(len(outputs))], axis = 0)\n",
        "coefs = [0.11611663,0.14885248]\n",
        "# pred_test_y = np.mean([outputs[i][1] for i in range(len(outputs))], axis = 0)\n",
        "pred_test_y = np.sum([outputs[i][1]*coefs[i] for i in range(len(coefs))], axis = 0)   \n",
        "\n",
        "pred_test_y = (pred_test_y > 0.34).astype(int)\n",
        "test_df = pd.read_csv(\"/content/drive/My Drive/Colab Notebooks/test.csv\", usecols=[\"qid\"])\n",
        "out_df = pd.DataFrame({\"qid\":test_df[\"qid\"].values})\n",
        "out_df['prediction'] = pred_test_y\n",
        "out_df.to_csv(\"/content/drive/My Drive/Colab Notebooks/submission.csv\", index=False)"
      ],
      "execution_count": 0,
      "outputs": []
    },
    {
      "cell_type": "code",
      "metadata": {
        "id": "0EcO6ixZqkl-",
        "colab_type": "code",
        "colab": {}
      },
      "source": [
        "pred = pd.read_csv('/content/drive/My Drive/Colab Notebooks/submissions.csv')\n",
        "predicted_vals = pred['target']"
      ],
      "execution_count": 0,
      "outputs": []
    },
    {
      "cell_type": "code",
      "metadata": {
        "id": "aJ9eNOO9e6Ce",
        "colab_type": "code",
        "colab": {}
      },
      "source": [
        "actual_vals = val_df['target']"
      ],
      "execution_count": 0,
      "outputs": []
    },
    {
      "cell_type": "code",
      "metadata": {
        "id": "zsE96KupqdkQ",
        "colab_type": "code",
        "colab": {
          "base_uri": "https://localhost:8080/",
          "height": 50
        },
        "outputId": "78ca6df0-86d5-455e-8d6f-bf43b483ff89"
      },
      "source": [
        "print(predicted_vals.shape)\n",
        "print(actual_vals.shape)"
      ],
      "execution_count": 233,
      "outputs": [
        {
          "output_type": "stream",
          "text": [
            "(1307,)\n",
            "(1307,)\n"
          ],
          "name": "stdout"
        }
      ]
    },
    {
      "cell_type": "code",
      "metadata": {
        "id": "bH1UAw2ZLaF5",
        "colab_type": "code",
        "colab": {
          "base_uri": "https://localhost:8080/",
          "height": 34
        },
        "outputId": "c244a587-afbb-45ac-dbab-bbf3bfbe71b8"
      },
      "source": [
        "# F1 score\n",
        "from sklearn.metrics import f1_score\n",
        "f1_score(actual_vals, predicted_vals, average= 'macro')"
      ],
      "execution_count": 234,
      "outputs": [
        {
          "output_type": "execute_result",
          "data": {
            "text/plain": [
              "0.6808957832796085"
            ]
          },
          "metadata": {
            "tags": []
          },
          "execution_count": 234
        }
      ]
    },
    {
      "cell_type": "code",
      "metadata": {
        "id": "5dY4qQQoMG41",
        "colab_type": "code",
        "colab": {}
      },
      "source": [
        ""
      ],
      "execution_count": 0,
      "outputs": []
    }
  ]
}